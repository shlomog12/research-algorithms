{
 "cells": [
  {
   "cell_type": "markdown",
   "metadata": {},
   "source": [
    "# Home work 1\n",
    "#### Author: Shlomo Glick\n",
    "#### Since : 2022-10"
   ]
  },
  {
   "cell_type": "markdown",
   "metadata": {},
   "source": [
    "## Question 1"
   ]
  },
  {
   "cell_type": "markdown",
   "metadata": {},
   "source": [
    "##### Function for doctest:"
   ]
  },
  {
   "cell_type": "code",
   "execution_count": 2,
   "metadata": {},
   "outputs": [],
   "source": [
    "def sum4(x: int, y:int ,z, w:float, l: list):\n",
    "    print(x+y+z+w)\n",
    "\n",
    "def get_first_argumet(l: list): \n",
    "    if len(l) > 0:\n",
    "        return l[0]\n",
    "    else:\n",
    "        return 0\n",
    "\n",
    "def get1():\n",
    "        return 1"
   ]
  },
  {
   "cell_type": "markdown",
   "metadata": {},
   "source": [
    "The main code"
   ]
  },
  {
   "cell_type": "code",
   "execution_count": 4,
   "metadata": {},
   "outputs": [],
   "source": [
    "from __future__ import annotations\n",
    "from typing import Callable\n",
    "\n",
    "def safe_call(f: Callable, **kwargs):\n",
    "    \"\"\"\n",
    "    This function receives as input another function and\n",
    "    arguments with names, and calls the function with the arguments,\n",
    "    but only they correspond exactly to the types defined in the annotation\n",
    "    of the function\n",
    "\n",
    "\n",
    "    def sum4(x: int, y:int ,z, w:float, l: list):\n",
    "        return x+y+z+w\n",
    "    \n",
    "    A good example\n",
    "    >>> safe_call(sum4, x=1, y=2, z=3.6, w=6.0, l=[])\n",
    "    12.6\n",
    "\n",
    "    Error: w should be type float but is type int\n",
    "    >>> safe_call(sum4, x=1, y=2, z=3.6, w=6, l=[])\n",
    "    Traceback (most recent call last):\n",
    "        ...\n",
    "    ValueError: Arguments do not fit annotations\n",
    "\n",
    "    Error: w should be type list but is type int\n",
    "    >>> safe_call(sum4, x=1, y=2, z=3.6, w=6.0, l=3)\n",
    "    Traceback (most recent call last):\n",
    "        ...\n",
    "    ValueError: Arguments do not fit annotations\n",
    "\n",
    "    A good example\n",
    "    >>> safe_call(get_first_argumet, l=[1, 2, 4])\n",
    "    1\n",
    "\n",
    "    Error: l should be type list but is type dict\n",
    "    >>> safe_call(get_first_argumet, l={'x': 3})\n",
    "    Traceback (most recent call last):\n",
    "        ...\n",
    "    ValueError: Arguments do not fit annotations\n",
    "\n",
    "\n",
    "\n",
    "    A good example with out arguments\n",
    "    >>> safe_call(get1)\n",
    "    3\n",
    "    \n",
    "    \"\"\"\n",
    "    with_annotations = {k: v  for k,v in kwargs.items() if k in f.__annotations__.keys()}\n",
    "    if all([f.__annotations__[k] == type(v).__name__ for k, v in with_annotations.items()]):\n",
    "        return f(**kwargs)\n",
    "    else:\n",
    "        raise ValueError(\"Arguments do not fit annotations\")"
   ]
  }
 ],
 "metadata": {
  "kernelspec": {
   "display_name": "Python 3.9.1 64-bit",
   "language": "python",
   "name": "python3"
  },
  "language_info": {
   "codemirror_mode": {
    "name": "ipython",
    "version": 3
   },
   "file_extension": ".py",
   "mimetype": "text/x-python",
   "name": "python",
   "nbconvert_exporter": "python",
   "pygments_lexer": "ipython3",
   "version": "3.9.1"
  },
  "orig_nbformat": 4,
  "vscode": {
   "interpreter": {
    "hash": "dcba363fcc49b28b90014a6732d5799914273aa4fd51c0ef7b0c6bdc177b0602"
   }
  }
 },
 "nbformat": 4,
 "nbformat_minor": 2
}
